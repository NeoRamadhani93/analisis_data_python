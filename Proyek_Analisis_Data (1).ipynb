{
  "cells": [
    {
      "cell_type": "markdown",
      "metadata": {
        "id": "H9wADwK78DCz"
      },
      "source": [
        "# Proyek Analisis Data: [Input Nama Dataset]\n",
        "- **Nama:** [Neo Ramadhani]\n",
        "- **Email:** [neoramacool@gmail.com]\n",
        "- **ID Dicoding:** [neo_ramadhani_ISwG]"
      ]
    },
    {
      "cell_type": "markdown",
      "metadata": {
        "id": "eE0raob58DC0"
      },
      "source": [
        "## Menentukan Pertanyaan Bisnis"
      ]
    },
    {
      "cell_type": "markdown",
      "metadata": {
        "id": "GmQeQ5YF8DC0"
      },
      "source": [
        "- 1. Berapa rata-rata tingkat PM2.5, PM10, SO2, dan NO2 dalam tahun 2016, 2017, dan 2018? Apakah ada tren peningkatan atau penurunan setiap tahunnya?\n",
        "- 2. Tampilkan 5 hari dengan tingkat PM2.5 tertinggi yang tercatat di semua tahun. Apa yang terjadi pada hari-hari tersebut?"
      ]
    },
    {
      "cell_type": "markdown",
      "metadata": {
        "id": "H-z4QGlO8DC1"
      },
      "source": [
        "## Import Semua Packages/Library yang Digunakan"
      ]
    },
    {
      "cell_type": "code",
      "execution_count": 1,
      "metadata": {
        "id": "FVYwaObI8DC1"
      },
      "outputs": [],
      "source": [
        "import numpy as np\n",
        "import pandas as pd\n",
        "import matplotlib.pyplot as plt\n",
        "import seaborn as sns\n"
      ]
    },
    {
      "cell_type": "markdown",
      "metadata": {
        "id": "h_Sh51Xy8DC1"
      },
      "source": [
        "## Data Wrangling"
      ]
    },
    {
      "cell_type": "markdown",
      "metadata": {
        "id": "sXU2GBYu8DC1"
      },
      "source": [
        "### Gathering Data"
      ]
    },
    {
      "cell_type": "code",
      "execution_count": 2,
      "metadata": {
        "id": "zjCBk1BI8DC1"
      },
      "outputs": [],
      "source": [
        "air_quality_df = pd.read_csv('PRSA_Data_Aotizhongxin_20130301-20170228.csv')"
      ]
    },
    {
      "cell_type": "markdown",
      "source": [
        "**Insight:**\n",
        "- mengumpulkan data dalam data csv diatas"
      ],
      "metadata": {
        "id": "MMi6xGaDkbCi"
      }
    },
    {
      "cell_type": "markdown",
      "metadata": {
        "id": "FHSiqaZp8DC1"
      },
      "source": [
        "### Assessing Data"
      ]
    },
    {
      "cell_type": "code",
      "source": [
        "print(\"Missing value: \")\n",
        "print(air_quality_df.isna().sum())\n",
        "print(\"Informasi mengenai data: \")\n",
        "print(air_quality_df.info())\n",
        "print(\"Jumlah duplikasi: \", air_quality_df.duplicated().sum())\n",
        "print(\"Pemeriksaan nilai tidak masuk akal:\\n\", air_quality_df[['TEMP', 'PRES', 'PM2.5']].describe())\n",
        "for col in ['PM2.5', 'PM10', 'SO2', 'NO2', 'CO', 'O3']:\n",
        "    print(f\"Nilai negatif di {col}: {air_quality_df[air_quality_df[col] < 0].shape[0]}\")"
      ],
      "metadata": {
        "id": "ax-3tEjc9Cj1",
        "colab": {
          "base_uri": "https://localhost:8080/"
        },
        "outputId": "7bda9fe5-c182-461c-a1d0-38992b1a0ce1"
      },
      "execution_count": 3,
      "outputs": [
        {
          "output_type": "stream",
          "name": "stdout",
          "text": [
            "Missing value: \n",
            "No            0\n",
            "year          0\n",
            "month         0\n",
            "day           0\n",
            "hour          0\n",
            "PM2.5       925\n",
            "PM10        718\n",
            "SO2         935\n",
            "NO2        1023\n",
            "CO         1776\n",
            "O3         1719\n",
            "TEMP         20\n",
            "PRES         20\n",
            "DEWP         20\n",
            "RAIN         20\n",
            "wd           81\n",
            "WSPM         14\n",
            "station       0\n",
            "dtype: int64\n",
            "Informasi mengenai data: \n",
            "<class 'pandas.core.frame.DataFrame'>\n",
            "RangeIndex: 35064 entries, 0 to 35063\n",
            "Data columns (total 18 columns):\n",
            " #   Column   Non-Null Count  Dtype  \n",
            "---  ------   --------------  -----  \n",
            " 0   No       35064 non-null  int64  \n",
            " 1   year     35064 non-null  int64  \n",
            " 2   month    35064 non-null  int64  \n",
            " 3   day      35064 non-null  int64  \n",
            " 4   hour     35064 non-null  int64  \n",
            " 5   PM2.5    34139 non-null  float64\n",
            " 6   PM10     34346 non-null  float64\n",
            " 7   SO2      34129 non-null  float64\n",
            " 8   NO2      34041 non-null  float64\n",
            " 9   CO       33288 non-null  float64\n",
            " 10  O3       33345 non-null  float64\n",
            " 11  TEMP     35044 non-null  float64\n",
            " 12  PRES     35044 non-null  float64\n",
            " 13  DEWP     35044 non-null  float64\n",
            " 14  RAIN     35044 non-null  float64\n",
            " 15  wd       34983 non-null  object \n",
            " 16  WSPM     35050 non-null  float64\n",
            " 17  station  35064 non-null  object \n",
            "dtypes: float64(11), int64(5), object(2)\n",
            "memory usage: 4.8+ MB\n",
            "None\n",
            "Jumlah duplikasi:  0\n",
            "Pemeriksaan nilai tidak masuk akal:\n",
            "                TEMP          PRES         PM2.5\n",
            "count  35044.000000  35044.000000  34139.000000\n",
            "mean      13.584607   1011.846920     82.773611\n",
            "std       11.399097     10.404047     82.135694\n",
            "min      -16.800000    985.900000      3.000000\n",
            "25%        3.100000   1003.300000     22.000000\n",
            "50%       14.500000   1011.400000     58.000000\n",
            "75%       23.300000   1020.100000    114.000000\n",
            "max       40.500000   1042.000000    898.000000\n",
            "Nilai negatif di PM2.5: 0\n",
            "Nilai negatif di PM10: 0\n",
            "Nilai negatif di SO2: 0\n",
            "Nilai negatif di NO2: 0\n",
            "Nilai negatif di CO: 0\n",
            "Nilai negatif di O3: 0\n"
          ]
        }
      ]
    },
    {
      "cell_type": "markdown",
      "source": [
        "**Insight:**\n",
        "- tidak ada duplikasi data\n",
        "- dan ada beberpaa missing values"
      ],
      "metadata": {
        "id": "7dtxhAPrkhPL"
      }
    },
    {
      "cell_type": "markdown",
      "metadata": {
        "id": "EhN5R4hr8DC1"
      },
      "source": [
        "### Cleaning Data"
      ]
    },
    {
      "cell_type": "code",
      "source": [
        "mode_wd = air_quality_df['wd'].mode()[0]\n",
        "air_quality_df['wd'] = air_quality_df['wd'].fillna(mode_wd)"
      ],
      "metadata": {
        "id": "jVnYpprE9Evz"
      },
      "execution_count": 4,
      "outputs": []
    },
    {
      "cell_type": "code",
      "source": [
        "def remove_outliers_iqr(df, columns):\n",
        "    for col in columns:\n",
        "        Q1 = df[col].quantile(0.25)\n",
        "        Q3 = df[col].quantile(0.75)\n",
        "        IQR = Q3 - Q1\n",
        "        lower_bound = Q1 - 1.5 * IQR\n",
        "        upper_bound = Q3 + 1.5 * IQR\n",
        "        df = df[(df[col] >= lower_bound) & (df[col] <= upper_bound)]\n",
        "    return df\n",
        "\n",
        "columns_to_clean = ['PM2.5', 'PM10', 'SO2']\n",
        "air_quality_df_cleaned = remove_outliers_iqr(air_quality_df, columns_to_clean)"
      ],
      "metadata": {
        "id": "ITTJbF2Vh6F8"
      },
      "execution_count": 5,
      "outputs": []
    },
    {
      "cell_type": "code",
      "source": [
        "air_quality_df_cleaned['PM2.5'] = air_quality_df_cleaned['PM2.5'].fillna(air_quality_df_cleaned['PM2.5'].mean())\n",
        "air_quality_df_cleaned['PM10'] = air_quality_df_cleaned['PM10'].fillna(air_quality_df_cleaned['PM10'].mean())\n",
        "air_quality_df_cleaned['SO2'] = air_quality_df_cleaned['SO2'].fillna(air_quality_df_cleaned['SO2'].median())\n",
        "air_quality_df_cleaned['NO2'] = air_quality_df_cleaned['NO2'].fillna(air_quality_df_cleaned['NO2'].mean())"
      ],
      "metadata": {
        "id": "GvkZhqhmh9BU"
      },
      "execution_count": 6,
      "outputs": []
    },
    {
      "cell_type": "markdown",
      "source": [
        "**Insight:**\n",
        "- selanjutnya adalah cleaniing data unutuk memberisihkan wd diatas\n",
        "- selanjutnya adalah mengisi bagian-bagian missing value"
      ],
      "metadata": {
        "id": "Q_5ejIqckiSP"
      }
    },
    {
      "cell_type": "markdown",
      "metadata": {
        "id": "gp-Y6wU38DC1"
      },
      "source": [
        "## Exploratory Data Analysis (EDA)"
      ]
    },
    {
      "cell_type": "markdown",
      "metadata": {
        "id": "MW7WF2kr8DC1"
      },
      "source": [
        "### Explore ..."
      ]
    },
    {
      "cell_type": "code",
      "execution_count": 7,
      "metadata": {
        "id": "e9CQCZjk8DC2"
      },
      "outputs": [],
      "source": [
        "air_quality_df_cleaned['date'] = pd.to_datetime(air_quality_df_cleaned[['year', 'month', 'day']])\n",
        "air_quality_df_cleaned['year'] = air_quality_df_cleaned['date'].dt.year"
      ]
    },
    {
      "cell_type": "code",
      "source": [
        "average_values = air_quality_df_cleaned.groupby('year')[['PM2.5', 'PM10', 'SO2', 'NO2']].mean()\n",
        "print(\"Rata-rata nilai untuk tahun 2016, 2017, 2018:\")\n",
        "print(average_values)\n",
        "top_5_pm25_days = air_quality_df_cleaned.nlargest(5, 'PM2.5')\n"
      ],
      "metadata": {
        "colab": {
          "base_uri": "https://localhost:8080/"
        },
        "id": "67KYn-UqiJvE",
        "outputId": "b57af056-bb10-41ea-9240-f93ed85009d5"
      },
      "execution_count": 8,
      "outputs": [
        {
          "output_type": "stream",
          "name": "stdout",
          "text": [
            "Rata-rata nilai untuk tahun 2016, 2017, 2018:\n",
            "          PM2.5       PM10        SO2        NO2\n",
            "year                                            \n",
            "2013  64.453983  91.875084  14.256267  57.103757\n",
            "2014  67.425953  94.263263  11.111704  56.477073\n",
            "2015  60.976748  87.547409   9.819069  53.451757\n",
            "2016  61.221428  79.422532   8.547986  44.766529\n",
            "2017  56.513305  68.189700  15.127039  54.301371\n"
          ]
        }
      ]
    },
    {
      "cell_type": "markdown",
      "source": [
        "**Insight:**\n",
        "- merubah kolom data year menjadi date time\n",
        "-"
      ],
      "metadata": {
        "id": "th_Lzl2Fkj9O"
      }
    },
    {
      "cell_type": "markdown",
      "metadata": {
        "id": "zsyZjqak8DC2"
      },
      "source": [
        "## Visualization & Explanatory Analysis"
      ]
    },
    {
      "cell_type": "markdown",
      "metadata": {
        "id": "HZxOiQ6n8DC2"
      },
      "source": [
        "### Pertanyaan 1:"
      ]
    },
    {
      "cell_type": "code",
      "execution_count": 9,
      "metadata": {
        "id": "1swJUdAD8DC2",
        "colab": {
          "base_uri": "https://localhost:8080/",
          "height": 564
        },
        "outputId": "76c7493e-85d6-42c8-a29d-4ce83920a5fd"
      },
      "outputs": [
        {
          "output_type": "display_data",
          "data": {
            "text/plain": [
              "<Figure size 1000x600 with 1 Axes>"
            ],
            "image/png": "[encoded data removed]"
          },
          "metadata": {}
        }
      ],
      "source": [
        "average_values.plot(kind='bar', figsize=(10, 6))\n",
        "plt.title('Rata-rata Kualitas Udara per Tahun (2013-2018)')\n",
        "plt.ylabel('Rata-rata Nilai')\n",
        "plt.xlabel('Tahun')\n",
        "plt.xticks(rotation=0)\n",
        "plt.show()"
      ]
    },
    {
      "cell_type": "markdown",
      "metadata": {
        "id": "DgHI7CiU8DC2"
      },
      "source": [
        "### Pertanyaan 2:"
      ]
    },
    {
      "cell_type": "code",
      "execution_count": 10,
      "metadata": {
        "id": "Go0lCsvO8DC2",
        "colab": {
          "base_uri": "https://localhost:8080/",
          "height": 607
        },
        "outputId": "cf102a19-493f-45bc-97fd-7e79ea30b70b"
      },
      "outputs": [
        {
          "output_type": "display_data",
          "data": {
            "text/plain": [
              "<Figure size 1000x600 with 1 Axes>"
            ],
            "image/png": "[encoded data removed]"
          },
          "metadata": {}
        }
      ],
      "source": [
        "average_values.plot(kind='bar', figsize=(10, 6))\n",
        "plt.title('Rata-rata Kualitas Udara per Tahun (2013-2018)')\n",
        "plt.ylabel('Rata-rata Nilai')\n",
        "plt.xlabel('Tahun')\n",
        "plt.xticks(rotation=0)\n",
        "plt.legend(title='Kualitas Udara', bbox_to_anchor=(1.05, 1), loc='upper left')\n",
        "plt.tight_layout()\n",
        "plt.show()"
      ]
    },
    {
      "cell_type": "code",
      "source": [
        "top_5_pm25_days = air_quality_df_cleaned.nlargest(5, 'PM2.5')\n",
        "\n",
        "# Visualisasi 5 hari dengan tingkat PM2.5 tertinggi\n",
        "plt.figure(figsize=(10, 6))\n",
        "sns.barplot(data=top_5_pm25_days, x='date', y='PM2.5', palette='viridis')\n",
        "plt.title('5 Hari dengan Tingkat PM2.5 Tertinggi')\n",
        "plt.ylabel('Tingkat PM2.5')\n",
        "plt.xlabel('Tanggal')\n",
        "plt.xticks(rotation=45)\n",
        "plt.tight_layout()\n",
        "plt.show()"
      ],
      "metadata": {
        "colab": {
          "base_uri": "https://localhost:8080/",
          "height": 887
        },
        "id": "RQHDiPIlijjE",
        "outputId": "9047c001-eceb-442a-c08b-e26d2c172f45"
      },
      "execution_count": 11,
      "outputs": [
        {
          "output_type": "stream",
          "name": "stderr",
          "text": [
            "<ipython-input-11-42d0e2fcf079>:5: FutureWarning: \n",
            "\n",
            "Passing `palette` without assigning `hue` is deprecated and will be removed in v0.14.0. Assign the `x` variable to `hue` and set `legend=False` for the same effect.\n",
            "\n",
            "  sns.barplot(data=top_5_pm25_days, x='date', y='PM2.5', palette='viridis')\n",
            "/usr/local/lib/python3.10/dist-packages/seaborn/_base.py:949: FutureWarning: When grouping with a length-1 list-like, you will need to pass a length-1 tuple to get_group in a future version of pandas. Pass `(name,)` instead of `name` to silence this warning.\n",
            "  data_subset = grouped_data.get_group(pd_key)\n",
            "/usr/local/lib/python3.10/dist-packages/seaborn/_base.py:949: FutureWarning: When grouping with a length-1 list-like, you will need to pass a length-1 tuple to get_group in a future version of pandas. Pass `(name,)` instead of `name` to silence this warning.\n",
            "  data_subset = grouped_data.get_group(pd_key)\n",
            "/usr/local/lib/python3.10/dist-packages/seaborn/_base.py:949: FutureWarning: When grouping with a length-1 list-like, you will need to pass a length-1 tuple to get_group in a future version of pandas. Pass `(name,)` instead of `name` to silence this warning.\n",
            "  data_subset = grouped_data.get_group(pd_key)\n",
            "/usr/local/lib/python3.10/dist-packages/seaborn/_base.py:949: FutureWarning: When grouping with a length-1 list-like, you will need to pass a length-1 tuple to get_group in a future version of pandas. Pass `(name,)` instead of `name` to silence this warning.\n",
            "  data_subset = grouped_data.get_group(pd_key)\n",
            "/usr/local/lib/python3.10/dist-packages/seaborn/_base.py:949: FutureWarning: When grouping with a length-1 list-like, you will need to pass a length-1 tuple to get_group in a future version of pandas. Pass `(name,)` instead of `name` to silence this warning.\n",
            "  data_subset = grouped_data.get_group(pd_key)\n"
          ]
        },
        {
          "output_type": "display_data",
          "data": {
            "text/plain": [
              "<Figure size 1000x600 with 1 Axes>"
            ],
            "image/png": "[encoded data removed]"
          },
          "metadata": {}
        }
      ]
    },
    {
      "cell_type": "markdown",
      "source": [
        "**Insight:**\n",
        "- dapat dilihat dalam pertanyaan satu menghasilkan visualisasi bar\n",
        "- sama akan pertanyaan nomer 1 pertanyaan nomer 2 adalah untuk mengidnetifikasi 5 hari tertinggi"
      ],
      "metadata": {
        "id": "_0-36BDLklRg"
      }
    },
    {
      "cell_type": "markdown",
      "source": [
        "## Analisis Lanjutan (Opsional)"
      ],
      "metadata": {
        "id": "9y4VUsmcYNZ5"
      }
    },
    {
      "cell_type": "code",
      "source": [],
      "metadata": {
        "id": "iWhnzsJGYUCO"
      },
      "execution_count": null,
      "outputs": []
    },
    {
      "cell_type": "markdown",
      "metadata": {
        "id": "_WeHlCeX8DC2"
      },
      "source": [
        "## Conclusion"
      ]
    },
    {
      "cell_type": "markdown",
      "metadata": {
        "id": "ZTcyR48Y8DC2"
      },
      "source": [
        "- dari pertanyaan nomer 1 terdapat penurunan kualitas udara yang sangat signifikan dari tahun ke tahun\n",
        "- sedangkan di pertanyan nomer 2 terdapat 5 hari dengan tingkat pm25 tertinggi selama tahun 2013 hingga 2018"
      ]
    }
  ],
  "metadata": {
    "kernelspec": {
      "display_name": "Python 3",
      "language": "python",
      "name": "python3"
    },
    "language_info": {
      "name": "python",
      "version": "3.8.0 (tags/v3.8.0:fa919fd, Oct 14 2019, 19:21:23) [MSC v.1916 32 bit (Intel)]"
    },
    "orig_nbformat": 4,
    "vscode": {
      "interpreter": {
        "hash": "972b3bf27e332e87b5379f2791f6ef9dfc79c71018c370b0d7423235e20fe4d7"
      }
    },
    "colab": {
      "provenance": []
    }
  },
  "nbformat": 4,
  "nbformat_minor": 0
}